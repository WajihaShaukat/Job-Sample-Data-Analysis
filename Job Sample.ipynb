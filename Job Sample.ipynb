{
 "cells": [
  {
   "cell_type": "markdown",
   "id": "ea51bf0d",
   "metadata": {},
   "source": [
    "# Reading Data"
   ]
  },
  {
   "cell_type": "code",
   "execution_count": 1,
   "id": "83ba696d",
   "metadata": {},
   "outputs": [],
   "source": [
    "import pandas as pd\n",
    "import numpy as np\n",
    "import matplotlib.pyplot as plt\n",
    "import seaborn as sns"
   ]
  },
  {
   "cell_type": "code",
   "execution_count": 2,
   "id": "0ace78f7",
   "metadata": {},
   "outputs": [
    {
     "data": {
      "text/html": [
       "<div>\n",
       "<style scoped>\n",
       "    .dataframe tbody tr th:only-of-type {\n",
       "        vertical-align: middle;\n",
       "    }\n",
       "\n",
       "    .dataframe tbody tr th {\n",
       "        vertical-align: top;\n",
       "    }\n",
       "\n",
       "    .dataframe thead th {\n",
       "        text-align: right;\n",
       "    }\n",
       "</style>\n",
       "<table border=\"1\" class=\"dataframe\">\n",
       "  <thead>\n",
       "    <tr style=\"text-align: right;\">\n",
       "      <th></th>\n",
       "      <th>country</th>\n",
       "      <th>country_code</th>\n",
       "      <th>date_added</th>\n",
       "      <th>has_expired</th>\n",
       "      <th>job_board</th>\n",
       "      <th>job_description</th>\n",
       "      <th>job_title</th>\n",
       "      <th>job_type</th>\n",
       "      <th>location</th>\n",
       "      <th>organization</th>\n",
       "      <th>page_url</th>\n",
       "      <th>salary</th>\n",
       "      <th>sector</th>\n",
       "      <th>uniq_id</th>\n",
       "    </tr>\n",
       "  </thead>\n",
       "  <tbody>\n",
       "    <tr>\n",
       "      <th>0</th>\n",
       "      <td>United States of America</td>\n",
       "      <td>US</td>\n",
       "      <td>NaN</td>\n",
       "      <td>No</td>\n",
       "      <td>jobs.monster.com</td>\n",
       "      <td>TeamSoft is seeing an IT Support Specialist to...</td>\n",
       "      <td>IT Support Technician Job in Madison</td>\n",
       "      <td>Full Time Employee</td>\n",
       "      <td>Madison, WI 53702</td>\n",
       "      <td>NaN</td>\n",
       "      <td>http://jobview.monster.com/it-support-technici...</td>\n",
       "      <td>NaN</td>\n",
       "      <td>IT/Software Development</td>\n",
       "      <td>11d599f229a80023d2f40e7c52cd941e</td>\n",
       "    </tr>\n",
       "    <tr>\n",
       "      <th>1</th>\n",
       "      <td>United States of America</td>\n",
       "      <td>US</td>\n",
       "      <td>NaN</td>\n",
       "      <td>No</td>\n",
       "      <td>jobs.monster.com</td>\n",
       "      <td>The Wisconsin State Journal is seeking a flexi...</td>\n",
       "      <td>Business Reporter/Editor Job in Madison</td>\n",
       "      <td>Full Time</td>\n",
       "      <td>Madison, WI 53708</td>\n",
       "      <td>Printing and Publishing</td>\n",
       "      <td>http://jobview.monster.com/business-reporter-e...</td>\n",
       "      <td>NaN</td>\n",
       "      <td>NaN</td>\n",
       "      <td>e4cbb126dabf22159aff90223243ff2a</td>\n",
       "    </tr>\n",
       "    <tr>\n",
       "      <th>2</th>\n",
       "      <td>United States of America</td>\n",
       "      <td>US</td>\n",
       "      <td>NaN</td>\n",
       "      <td>No</td>\n",
       "      <td>jobs.monster.com</td>\n",
       "      <td>Report this job About the Job DePuy Synthes Co...</td>\n",
       "      <td>Johnson &amp; Johnson Family of Companies Job Appl...</td>\n",
       "      <td>Full Time, Employee</td>\n",
       "      <td>DePuy Synthes Companies is a member of Johnson...</td>\n",
       "      <td>Personal and Household Services</td>\n",
       "      <td>http://jobview.monster.com/senior-training-lea...</td>\n",
       "      <td>NaN</td>\n",
       "      <td>NaN</td>\n",
       "      <td>839106b353877fa3d896ffb9c1fe01c0</td>\n",
       "    </tr>\n",
       "  </tbody>\n",
       "</table>\n",
       "</div>"
      ],
      "text/plain": [
       "                    country country_code date_added has_expired  \\\n",
       "0  United States of America           US        NaN          No   \n",
       "1  United States of America           US        NaN          No   \n",
       "2  United States of America           US        NaN          No   \n",
       "\n",
       "          job_board                                    job_description  \\\n",
       "0  jobs.monster.com  TeamSoft is seeing an IT Support Specialist to...   \n",
       "1  jobs.monster.com  The Wisconsin State Journal is seeking a flexi...   \n",
       "2  jobs.monster.com  Report this job About the Job DePuy Synthes Co...   \n",
       "\n",
       "                                           job_title             job_type  \\\n",
       "0               IT Support Technician Job in Madison   Full Time Employee   \n",
       "1            Business Reporter/Editor Job in Madison            Full Time   \n",
       "2  Johnson & Johnson Family of Companies Job Appl...  Full Time, Employee   \n",
       "\n",
       "                                            location  \\\n",
       "0                                  Madison, WI 53702   \n",
       "1                                  Madison, WI 53708   \n",
       "2  DePuy Synthes Companies is a member of Johnson...   \n",
       "\n",
       "                      organization  \\\n",
       "0                              NaN   \n",
       "1          Printing and Publishing   \n",
       "2  Personal and Household Services   \n",
       "\n",
       "                                            page_url salary  \\\n",
       "0  http://jobview.monster.com/it-support-technici...    NaN   \n",
       "1  http://jobview.monster.com/business-reporter-e...    NaN   \n",
       "2  http://jobview.monster.com/senior-training-lea...    NaN   \n",
       "\n",
       "                    sector                           uniq_id  \n",
       "0  IT/Software Development  11d599f229a80023d2f40e7c52cd941e  \n",
       "1                      NaN  e4cbb126dabf22159aff90223243ff2a  \n",
       "2                      NaN  839106b353877fa3d896ffb9c1fe01c0  "
      ]
     },
     "execution_count": 2,
     "metadata": {},
     "output_type": "execute_result"
    }
   ],
   "source": [
    "ds = pd.read_csv('job_sample.csv')\n",
    "ds.head(3)"
   ]
  },
  {
   "cell_type": "code",
   "execution_count": 3,
   "id": "e662115c",
   "metadata": {},
   "outputs": [
    {
     "data": {
      "text/plain": [
       "(22000, 14)"
      ]
     },
     "execution_count": 3,
     "metadata": {},
     "output_type": "execute_result"
    }
   ],
   "source": [
    "ds.shape"
   ]
  },
  {
   "cell_type": "code",
   "execution_count": 4,
   "id": "8f2a3325",
   "metadata": {},
   "outputs": [
    {
     "name": "stdout",
     "output_type": "stream",
     "text": [
      "<class 'pandas.core.frame.DataFrame'>\n",
      "RangeIndex: 22000 entries, 0 to 21999\n",
      "Data columns (total 14 columns):\n",
      " #   Column           Non-Null Count  Dtype \n",
      "---  ------           --------------  ----- \n",
      " 0   country          22000 non-null  object\n",
      " 1   country_code     22000 non-null  object\n",
      " 2   date_added       122 non-null    object\n",
      " 3   has_expired      22000 non-null  object\n",
      " 4   job_board        22000 non-null  object\n",
      " 5   job_description  22000 non-null  object\n",
      " 6   job_title        22000 non-null  object\n",
      " 7   job_type         20372 non-null  object\n",
      " 8   location         22000 non-null  object\n",
      " 9   organization     15133 non-null  object\n",
      " 10  page_url         22000 non-null  object\n",
      " 11  salary           3446 non-null   object\n",
      " 12  sector           16806 non-null  object\n",
      " 13  uniq_id          22000 non-null  object\n",
      "dtypes: object(14)\n",
      "memory usage: 2.3+ MB\n"
     ]
    }
   ],
   "source": [
    "ds.info()"
   ]
  },
  {
   "cell_type": "markdown",
   "id": "5a1eb1f5",
   "metadata": {},
   "source": [
    "# Checking Missing Values"
   ]
  },
  {
   "cell_type": "code",
   "execution_count": 5,
   "id": "fde3953f",
   "metadata": {},
   "outputs": [
    {
     "data": {
      "text/plain": [
       "country             0.000000\n",
       "country_code        0.000000\n",
       "date_added         99.445455\n",
       "has_expired         0.000000\n",
       "job_board           0.000000\n",
       "job_description     0.000000\n",
       "job_title           0.000000\n",
       "job_type            7.400000\n",
       "location            0.000000\n",
       "organization       31.213636\n",
       "page_url            0.000000\n",
       "salary             84.336364\n",
       "sector             23.609091\n",
       "uniq_id             0.000000\n",
       "dtype: float64"
      ]
     },
     "execution_count": 5,
     "metadata": {},
     "output_type": "execute_result"
    }
   ],
   "source": [
    "(ds.isnull().sum()/ds.shape[0])*100"
   ]
  },
  {
   "cell_type": "code",
   "execution_count": 6,
   "id": "97d966ed",
   "metadata": {},
   "outputs": [
    {
     "data": {
      "text/plain": [
       "<Axes: >"
      ]
     },
     "execution_count": 6,
     "metadata": {},
     "output_type": "execute_result"
    },
    {
     "data": {
      "image/png": "[encoded data removed]",
      "text/plain": [
       "<Figure size 640x480 with 2 Axes>"
      ]
     },
     "metadata": {},
     "output_type": "display_data"
    }
   ],
   "source": [
    "sns.heatmap(ds.isnull())"
   ]
  },
  {
   "cell_type": "markdown",
   "id": "b2b44103",
   "metadata": {},
   "source": [
    "# Handling Messy Data"
   ]
  },
  {
   "cell_type": "code",
   "execution_count": 7,
   "id": "e4384503",
   "metadata": {},
   "outputs": [
    {
     "data": {
      "text/plain": [
       "array(['Full Time Employee', 'Full Time', 'Full Time, Employee',\n",
       "       'Part Time Employee', nan, 'Full Time Temporary/Contract/Project',\n",
       "       'Full Time , Employee', 'Full Time, Temporary/Contract/Project',\n",
       "       'Employee', 'Part Time', 'Part Time, Employee', 'Full Time Intern',\n",
       "       'Temporary/Contract/Project', 'Full Time / Employee',\n",
       "       'Full Time , Temporary/Contract/Project',\n",
       "       'Part Time, Temporary/Contract/Project', 'Full Time/ Employee',\n",
       "       'Per Diem, Employee', 'Job Type Full Time Employee', 'Per Diem',\n",
       "       'Full Time\\xa0', 'Part Time Intern', 'Per Diem Employee',\n",
       "       'Part Time/ Temporary/Contract/Project',\n",
       "       'Part Time Temporary/Contract/Project', 'Exempt',\n",
       "       'Part Time , Temporary/Contract/Project', 'Full Time\\xa0 Employee',\n",
       "       'Part Time Seasonal', 'Part Time , Employee', 'Job Type Employee',\n",
       "       'Job Type Full Time Temporary/Contract/Project',\n",
       "       'Full Time / > Employee', 'Part Time\\xa0',\n",
       "       'Per Diem, Temporary/Contract/Project',\n",
       "       'Full Time / Temporary/Contract/Project', 'Part Time, Intern',\n",
       "       'Job Type Full Time', 'Part Time / Employee',\n",
       "       'Job Type Part Time Employee'], dtype=object)"
      ]
     },
     "execution_count": 7,
     "metadata": {},
     "output_type": "execute_result"
    }
   ],
   "source": [
    "ds['job_type'].unique()"
   ]
  },
  {
   "cell_type": "code",
   "execution_count": 8,
   "id": "be35b4c5",
   "metadata": {},
   "outputs": [],
   "source": [
    "ds['job_type']=ds['job_type'].str.replace('Full Time Employee','Full Time')\n",
    "ds['job_type']=ds['job_type'].str.replace('Full Time, Employee','Full Time')\n",
    "ds['job_type']=ds['job_type'].str.replace('Full Time , Employee','Full Time')\n",
    "ds['job_type']=ds['job_type'].str.replace('Full Time / > Employee','Full Time')\n",
    "ds['job_type']=ds['job_type'].str.replace('Job Type Full Time','Full Time')\n",
    "ds['job_type']=ds['job_type'].str.replace('Full Time\\xa0','Full Time')\n",
    "ds['job_type']=ds['job_type'].str.replace('Employee','Full Time')\n",
    "ds['job_type']=ds['job_type'].str.replace('Part Time , Full Time','Full Time')"
   ]
  },
  {
   "cell_type": "code",
   "execution_count": 9,
   "id": "58d08f29",
   "metadata": {},
   "outputs": [],
   "source": [
    "ds['job_type']=ds['job_type'].str.replace('Part Time / Employee','Part Time')\n",
    "ds['job_type']=ds['job_type'].str.replace('Part Time , Employee','Part Time')\n",
    "ds['job_type']=ds['job_type'].str.replace('Job Type Part Time','Part Time')\n",
    "ds['job_type']=ds['job_type'].str.replace('Part Time\\xa0','Part Time')\n",
    "ds['job_type']=ds['job_type'].str.replace('Part Time, Full Time','Part Time')"
   ]
  },
  {
   "cell_type": "code",
   "execution_count": 10,
   "id": "207e4b7b",
   "metadata": {},
   "outputs": [],
   "source": [
    "ds['job_type']=ds['job_type'].str.replace('Full Time Temporary/Contract/Project','Contract')\n",
    "ds['job_type']=ds['job_type'].str.replace('Full Time, Temporary/Contract/Project','Contract')\n",
    "ds['job_type']=ds['job_type'].str.replace('Temporary/Contract/Project','Contract')\n",
    "ds['job_type']=ds['job_type'].str.replace('Full Time / Contract','Contract')\n",
    "ds['job_type']=ds['job_type'].str.replace('Part Time Contract','Contract')\n",
    "ds['job_type']=ds['job_type'].str.replace('Full Time , Contract','Contract')\n",
    "ds['job_type']=ds['job_type'].str.replace('Part Time, Contract','Contract')\n",
    "ds['job_type']=ds['job_type'].str.replace('Per Diem, Contract','Contract')\n",
    "ds['job_type']=ds['job_type'].str.replace('Part Time Full Time','Part Time')\n",
    "ds['job_type']=ds['job_type'].str.replace('Full Time / Full Time','Part Time')\n",
    "ds['job_type']=ds['job_type'].str.replace('Full Time/ Full Time','Part Time')\n",
    "ds['job_type']=ds['job_type'].str.replace('Per Diem, Full Time','Full Time')\n",
    "ds['job_type']=ds['job_type'].str.replace('Per Diem Full Time','Full Time')\n",
    "ds['job_type']=ds['job_type'].str.replace('Part Time/ Contract','Contract')\n",
    "ds['job_type']=ds['job_type'].str.replace('Part Time , Contract','Contract')\n",
    "ds['job_type']=ds['job_type'].str.replace('Full Time Full Time','Full Time')\n",
    "ds['job_type']=ds['job_type'].str.replace('Part Time / Full Time','Full Time')\n",
    "ds['job_type']=ds['job_type'].str.replace('Job Type Full Time','Full Time')\n",
    "ds['job_type']=ds['job_type'].str.replace('Part Time Seasonal','Part Time')\n",
    "\n",
    "ds['job_type']=ds['job_type'].str.replace('Full Time Intern','Intern')\n",
    "ds['job_type']=ds['job_type'].str.replace('Part Time Intern','Intern')\n",
    "ds['job_type']=ds['job_type'].str.replace('Part Time, Intern','Intern')\n",
    "\n",
    "ds['job_type']=ds['job_type'].str.replace('Per Day, Full Time','Per Day')"
   ]
  },
  {
   "cell_type": "code",
   "execution_count": 11,
   "id": "06e763a8",
   "metadata": {},
   "outputs": [
    {
     "data": {
      "text/plain": [
       "array(['Full Time', 'Part Time', nan, 'Contract', 'Intern', 'Per Diem',\n",
       "       'Exempt'], dtype=object)"
      ]
     },
     "execution_count": 11,
     "metadata": {},
     "output_type": "execute_result"
    }
   ],
   "source": [
    "ds['job_type'].unique()"
   ]
  },
  {
   "cell_type": "code",
   "execution_count": 12,
   "id": "6804cce4",
   "metadata": {},
   "outputs": [],
   "source": [
    "ds.drop(columns=['country','date_added'], inplace=True)"
   ]
  },
  {
   "cell_type": "code",
   "execution_count": 13,
   "id": "4539b4e4",
   "metadata": {},
   "outputs": [
    {
     "data": {
      "text/html": [
       "<div>\n",
       "<style scoped>\n",
       "    .dataframe tbody tr th:only-of-type {\n",
       "        vertical-align: middle;\n",
       "    }\n",
       "\n",
       "    .dataframe tbody tr th {\n",
       "        vertical-align: top;\n",
       "    }\n",
       "\n",
       "    .dataframe thead th {\n",
       "        text-align: right;\n",
       "    }\n",
       "</style>\n",
       "<table border=\"1\" class=\"dataframe\">\n",
       "  <thead>\n",
       "    <tr style=\"text-align: right;\">\n",
       "      <th></th>\n",
       "      <th>country_code</th>\n",
       "      <th>has_expired</th>\n",
       "      <th>job_board</th>\n",
       "      <th>job_title</th>\n",
       "      <th>job_type</th>\n",
       "      <th>location</th>\n",
       "      <th>organization</th>\n",
       "      <th>salary</th>\n",
       "      <th>sector</th>\n",
       "      <th>uniq_id</th>\n",
       "    </tr>\n",
       "  </thead>\n",
       "  <tbody>\n",
       "    <tr>\n",
       "      <th>0</th>\n",
       "      <td>US</td>\n",
       "      <td>No</td>\n",
       "      <td>jobs.monster.com</td>\n",
       "      <td>IT Support Technician Job in Madison</td>\n",
       "      <td>Full Time</td>\n",
       "      <td>Madison, WI 53702</td>\n",
       "      <td>NaN</td>\n",
       "      <td>NaN</td>\n",
       "      <td>IT/Software Development</td>\n",
       "      <td>11d599f229a80023d2f40e7c52cd941e</td>\n",
       "    </tr>\n",
       "    <tr>\n",
       "      <th>1</th>\n",
       "      <td>US</td>\n",
       "      <td>No</td>\n",
       "      <td>jobs.monster.com</td>\n",
       "      <td>Business Reporter/Editor Job in Madison</td>\n",
       "      <td>Full Time</td>\n",
       "      <td>Madison, WI 53708</td>\n",
       "      <td>Printing and Publishing</td>\n",
       "      <td>NaN</td>\n",
       "      <td>NaN</td>\n",
       "      <td>e4cbb126dabf22159aff90223243ff2a</td>\n",
       "    </tr>\n",
       "    <tr>\n",
       "      <th>2</th>\n",
       "      <td>US</td>\n",
       "      <td>No</td>\n",
       "      <td>jobs.monster.com</td>\n",
       "      <td>Johnson &amp; Johnson Family of Companies Job Appl...</td>\n",
       "      <td>Full Time</td>\n",
       "      <td>DePuy Synthes Companies is a member of Johnson...</td>\n",
       "      <td>Personal and Household Services</td>\n",
       "      <td>NaN</td>\n",
       "      <td>NaN</td>\n",
       "      <td>839106b353877fa3d896ffb9c1fe01c0</td>\n",
       "    </tr>\n",
       "  </tbody>\n",
       "</table>\n",
       "</div>"
      ],
      "text/plain": [
       "  country_code has_expired         job_board  \\\n",
       "0           US          No  jobs.monster.com   \n",
       "1           US          No  jobs.monster.com   \n",
       "2           US          No  jobs.monster.com   \n",
       "\n",
       "                                           job_title   job_type  \\\n",
       "0               IT Support Technician Job in Madison  Full Time   \n",
       "1            Business Reporter/Editor Job in Madison  Full Time   \n",
       "2  Johnson & Johnson Family of Companies Job Appl...  Full Time   \n",
       "\n",
       "                                            location  \\\n",
       "0                                  Madison, WI 53702   \n",
       "1                                  Madison, WI 53708   \n",
       "2  DePuy Synthes Companies is a member of Johnson...   \n",
       "\n",
       "                      organization salary                   sector  \\\n",
       "0                              NaN    NaN  IT/Software Development   \n",
       "1          Printing and Publishing    NaN                      NaN   \n",
       "2  Personal and Household Services    NaN                      NaN   \n",
       "\n",
       "                            uniq_id  \n",
       "0  11d599f229a80023d2f40e7c52cd941e  \n",
       "1  e4cbb126dabf22159aff90223243ff2a  \n",
       "2  839106b353877fa3d896ffb9c1fe01c0  "
      ]
     },
     "execution_count": 13,
     "metadata": {},
     "output_type": "execute_result"
    }
   ],
   "source": [
    "ds=ds.drop(columns=['job_description','page_url'])\n",
    "ds.head(3)"
   ]
  },
  {
   "cell_type": "code",
   "execution_count": 14,
   "id": "8695dbc3",
   "metadata": {},
   "outputs": [
    {
     "data": {
      "text/html": [
       "<div>\n",
       "<style scoped>\n",
       "    .dataframe tbody tr th:only-of-type {\n",
       "        vertical-align: middle;\n",
       "    }\n",
       "\n",
       "    .dataframe tbody tr th {\n",
       "        vertical-align: top;\n",
       "    }\n",
       "\n",
       "    .dataframe thead th {\n",
       "        text-align: right;\n",
       "    }\n",
       "</style>\n",
       "<table border=\"1\" class=\"dataframe\">\n",
       "  <thead>\n",
       "    <tr style=\"text-align: right;\">\n",
       "      <th></th>\n",
       "      <th>country_code</th>\n",
       "      <th>has_expired</th>\n",
       "      <th>job_board</th>\n",
       "      <th>job_title</th>\n",
       "      <th>job_type</th>\n",
       "      <th>location</th>\n",
       "      <th>organization</th>\n",
       "      <th>salary</th>\n",
       "      <th>sector</th>\n",
       "      <th>uniq_id</th>\n",
       "      <th>new_location</th>\n",
       "      <th>new_job_title</th>\n",
       "    </tr>\n",
       "  </thead>\n",
       "  <tbody>\n",
       "    <tr>\n",
       "      <th>0</th>\n",
       "      <td>US</td>\n",
       "      <td>No</td>\n",
       "      <td>jobs.monster.com</td>\n",
       "      <td>IT Support Technician Job in Madison</td>\n",
       "      <td>Full Time</td>\n",
       "      <td>Madison, WI 53702</td>\n",
       "      <td>NaN</td>\n",
       "      <td>NaN</td>\n",
       "      <td>IT/Software Development</td>\n",
       "      <td>11d599f229a80023d2f40e7c52cd941e</td>\n",
       "      <td>Madison, WI 53702</td>\n",
       "      <td>IT Support Technician</td>\n",
       "    </tr>\n",
       "    <tr>\n",
       "      <th>1</th>\n",
       "      <td>US</td>\n",
       "      <td>No</td>\n",
       "      <td>jobs.monster.com</td>\n",
       "      <td>Business Reporter/Editor Job in Madison</td>\n",
       "      <td>Full Time</td>\n",
       "      <td>Madison, WI 53708</td>\n",
       "      <td>Printing and Publishing</td>\n",
       "      <td>NaN</td>\n",
       "      <td>NaN</td>\n",
       "      <td>e4cbb126dabf22159aff90223243ff2a</td>\n",
       "      <td>Madison, WI 53708</td>\n",
       "      <td>Business Reporter/Editor Job</td>\n",
       "    </tr>\n",
       "    <tr>\n",
       "      <th>2</th>\n",
       "      <td>US</td>\n",
       "      <td>No</td>\n",
       "      <td>jobs.monster.com</td>\n",
       "      <td>Johnson &amp; Johnson Family of Companies Job Appl...</td>\n",
       "      <td>Full Time</td>\n",
       "      <td>DePuy Synthes Companies is a member of Johnson...</td>\n",
       "      <td>Personal and Household Services</td>\n",
       "      <td>NaN</td>\n",
       "      <td>NaN</td>\n",
       "      <td>839106b353877fa3d896ffb9c1fe01c0</td>\n",
       "      <td>DePuy Synthes Companies</td>\n",
       "      <td>Johnson &amp; Johnson</td>\n",
       "    </tr>\n",
       "  </tbody>\n",
       "</table>\n",
       "</div>"
      ],
      "text/plain": [
       "  country_code has_expired         job_board  \\\n",
       "0           US          No  jobs.monster.com   \n",
       "1           US          No  jobs.monster.com   \n",
       "2           US          No  jobs.monster.com   \n",
       "\n",
       "                                           job_title   job_type  \\\n",
       "0               IT Support Technician Job in Madison  Full Time   \n",
       "1            Business Reporter/Editor Job in Madison  Full Time   \n",
       "2  Johnson & Johnson Family of Companies Job Appl...  Full Time   \n",
       "\n",
       "                                            location  \\\n",
       "0                                  Madison, WI 53702   \n",
       "1                                  Madison, WI 53708   \n",
       "2  DePuy Synthes Companies is a member of Johnson...   \n",
       "\n",
       "                      organization salary                   sector  \\\n",
       "0                              NaN    NaN  IT/Software Development   \n",
       "1          Printing and Publishing    NaN                      NaN   \n",
       "2  Personal and Household Services    NaN                      NaN   \n",
       "\n",
       "                            uniq_id             new_location  \\\n",
       "0  11d599f229a80023d2f40e7c52cd941e        Madison, WI 53702   \n",
       "1  e4cbb126dabf22159aff90223243ff2a        Madison, WI 53708   \n",
       "2  839106b353877fa3d896ffb9c1fe01c0  DePuy Synthes Companies   \n",
       "\n",
       "                  new_job_title  \n",
       "0         IT Support Technician  \n",
       "1  Business Reporter/Editor Job  \n",
       "2             Johnson & Johnson  "
      ]
     },
     "execution_count": 14,
     "metadata": {},
     "output_type": "execute_result"
    }
   ],
   "source": [
    "ds['new_location'] = ds['location'].apply(lambda x: ' '.join(x.split()[:3]))\n",
    "ds['new_job_title'] = ds['job_title'].apply(lambda x: ' '.join(x.split()[:3]))\n",
    "ds.head(3)"
   ]
  },
  {
   "cell_type": "code",
   "execution_count": 15,
   "id": "8b34b158",
   "metadata": {},
   "outputs": [],
   "source": [
    "ds=ds.drop(columns=['job_title','location'])"
   ]
  },
  {
   "cell_type": "code",
   "execution_count": 16,
   "id": "2ae97bf8",
   "metadata": {},
   "outputs": [
    {
     "data": {
      "text/html": [
       "<div>\n",
       "<style scoped>\n",
       "    .dataframe tbody tr th:only-of-type {\n",
       "        vertical-align: middle;\n",
       "    }\n",
       "\n",
       "    .dataframe tbody tr th {\n",
       "        vertical-align: top;\n",
       "    }\n",
       "\n",
       "    .dataframe thead th {\n",
       "        text-align: right;\n",
       "    }\n",
       "</style>\n",
       "<table border=\"1\" class=\"dataframe\">\n",
       "  <thead>\n",
       "    <tr style=\"text-align: right;\">\n",
       "      <th></th>\n",
       "      <th>country_code</th>\n",
       "      <th>has_expired</th>\n",
       "      <th>job_board</th>\n",
       "      <th>job_type</th>\n",
       "      <th>organization</th>\n",
       "      <th>salary</th>\n",
       "      <th>sector</th>\n",
       "      <th>uniq_id</th>\n",
       "      <th>new_location</th>\n",
       "      <th>new_job_title</th>\n",
       "    </tr>\n",
       "  </thead>\n",
       "  <tbody>\n",
       "    <tr>\n",
       "      <th>0</th>\n",
       "      <td>US</td>\n",
       "      <td>No</td>\n",
       "      <td>jobs.monster.com</td>\n",
       "      <td>Full Time</td>\n",
       "      <td>NaN</td>\n",
       "      <td>NaN</td>\n",
       "      <td>IT/Software Development</td>\n",
       "      <td>11d599f229a80023d2f40e7c52cd941e</td>\n",
       "      <td>Madison, WI 53702</td>\n",
       "      <td>IT Support Technician</td>\n",
       "    </tr>\n",
       "    <tr>\n",
       "      <th>1</th>\n",
       "      <td>US</td>\n",
       "      <td>No</td>\n",
       "      <td>jobs.monster.com</td>\n",
       "      <td>Full Time</td>\n",
       "      <td>Printing and Publishing</td>\n",
       "      <td>NaN</td>\n",
       "      <td>NaN</td>\n",
       "      <td>e4cbb126dabf22159aff90223243ff2a</td>\n",
       "      <td>Madison, WI 53708</td>\n",
       "      <td>Business Reporter/Editor Job</td>\n",
       "    </tr>\n",
       "    <tr>\n",
       "      <th>2</th>\n",
       "      <td>US</td>\n",
       "      <td>No</td>\n",
       "      <td>jobs.monster.com</td>\n",
       "      <td>Full Time</td>\n",
       "      <td>Personal and Household Services</td>\n",
       "      <td>NaN</td>\n",
       "      <td>NaN</td>\n",
       "      <td>839106b353877fa3d896ffb9c1fe01c0</td>\n",
       "      <td>DePuy Synthes Companies</td>\n",
       "      <td>Johnson &amp; Johnson</td>\n",
       "    </tr>\n",
       "  </tbody>\n",
       "</table>\n",
       "</div>"
      ],
      "text/plain": [
       "  country_code has_expired         job_board   job_type  \\\n",
       "0           US          No  jobs.monster.com  Full Time   \n",
       "1           US          No  jobs.monster.com  Full Time   \n",
       "2           US          No  jobs.monster.com  Full Time   \n",
       "\n",
       "                      organization salary                   sector  \\\n",
       "0                              NaN    NaN  IT/Software Development   \n",
       "1          Printing and Publishing    NaN                      NaN   \n",
       "2  Personal and Household Services    NaN                      NaN   \n",
       "\n",
       "                            uniq_id             new_location  \\\n",
       "0  11d599f229a80023d2f40e7c52cd941e        Madison, WI 53702   \n",
       "1  e4cbb126dabf22159aff90223243ff2a        Madison, WI 53708   \n",
       "2  839106b353877fa3d896ffb9c1fe01c0  DePuy Synthes Companies   \n",
       "\n",
       "                  new_job_title  \n",
       "0         IT Support Technician  \n",
       "1  Business Reporter/Editor Job  \n",
       "2             Johnson & Johnson  "
      ]
     },
     "execution_count": 16,
     "metadata": {},
     "output_type": "execute_result"
    }
   ],
   "source": [
    "ds.head(3)"
   ]
  },
  {
   "cell_type": "code",
   "execution_count": 17,
   "id": "f457fe38",
   "metadata": {},
   "outputs": [
    {
     "name": "stdout",
     "output_type": "stream",
     "text": [
      "<class 'pandas.core.frame.DataFrame'>\n",
      "RangeIndex: 22000 entries, 0 to 21999\n",
      "Data columns (total 10 columns):\n",
      " #   Column         Non-Null Count  Dtype \n",
      "---  ------         --------------  ----- \n",
      " 0   country_code   22000 non-null  object\n",
      " 1   has_expired    22000 non-null  object\n",
      " 2   job_board      22000 non-null  object\n",
      " 3   job_type       20372 non-null  object\n",
      " 4   organization   15133 non-null  object\n",
      " 5   salary         3446 non-null   object\n",
      " 6   sector         16806 non-null  object\n",
      " 7   uniq_id        22000 non-null  object\n",
      " 8   new_location   22000 non-null  object\n",
      " 9   new_job_title  22000 non-null  object\n",
      "dtypes: object(10)\n",
      "memory usage: 1.7+ MB\n"
     ]
    }
   ],
   "source": [
    "ds.info()"
   ]
  },
  {
   "cell_type": "markdown",
   "id": "07a9c4fd",
   "metadata": {},
   "source": [
    "# Filling the Missing Values"
   ]
  },
  {
   "cell_type": "markdown",
   "id": "82f82696",
   "metadata": {},
   "source": [
    "Filling in missing values in columns"
   ]
  },
  {
   "cell_type": "code",
   "execution_count": 25,
   "id": "e3784277",
   "metadata": {},
   "outputs": [
    {
     "data": {
      "text/plain": [
       "'Full Time'"
      ]
     },
     "execution_count": 25,
     "metadata": {},
     "output_type": "execute_result"
    }
   ],
   "source": [
    "ds['job_type'].mode()[0]"
   ]
  },
  {
   "cell_type": "code",
   "execution_count": 29,
   "id": "67856dae",
   "metadata": {},
   "outputs": [],
   "source": [
    "ds['job_type'].fillna(ds['job_type'].mode()[0],inplace=True)"
   ]
  },
  {
   "cell_type": "code",
   "execution_count": 31,
   "id": "23c11538",
   "metadata": {},
   "outputs": [
    {
     "data": {
      "text/plain": [
       "'Healthcare Services'"
      ]
     },
     "execution_count": 31,
     "metadata": {},
     "output_type": "execute_result"
    }
   ],
   "source": [
    "ds['organization'].mode()[0]"
   ]
  },
  {
   "cell_type": "code",
   "execution_count": 32,
   "id": "b45d53f4",
   "metadata": {},
   "outputs": [],
   "source": [
    "ds['organization'].fillna(ds['organization'].mode()[0],inplace=True)"
   ]
  },
  {
   "cell_type": "code",
   "execution_count": 37,
   "id": "172dd84b",
   "metadata": {},
   "outputs": [
    {
     "data": {
      "text/plain": [
       "'40,000.00 - 100,000.00 $ /year'"
      ]
     },
     "execution_count": 37,
     "metadata": {},
     "output_type": "execute_result"
    }
   ],
   "source": [
    "ds['salary'].mode()[0]"
   ]
  },
  {
   "cell_type": "code",
   "execution_count": 38,
   "id": "951beb1b",
   "metadata": {},
   "outputs": [],
   "source": [
    "ds['salary'].fillna(ds['salary'].mode()[0],inplace=True)"
   ]
  },
  {
   "cell_type": "code",
   "execution_count": 40,
   "id": "d520e81d",
   "metadata": {},
   "outputs": [
    {
     "data": {
      "text/plain": [
       "'Experienced (Non-Manager)'"
      ]
     },
     "execution_count": 40,
     "metadata": {},
     "output_type": "execute_result"
    }
   ],
   "source": [
    "ds['sector'].mode()[0]"
   ]
  },
  {
   "cell_type": "code",
   "execution_count": 41,
   "id": "8b13c945",
   "metadata": {},
   "outputs": [],
   "source": [
    "ds['sector'].fillna(ds['sector'].mode()[0],inplace=True)"
   ]
  },
  {
   "cell_type": "code",
   "execution_count": 42,
   "id": "a5c64745",
   "metadata": {},
   "outputs": [
    {
     "name": "stdout",
     "output_type": "stream",
     "text": [
      "<class 'pandas.core.frame.DataFrame'>\n",
      "RangeIndex: 22000 entries, 0 to 21999\n",
      "Data columns (total 10 columns):\n",
      " #   Column         Non-Null Count  Dtype \n",
      "---  ------         --------------  ----- \n",
      " 0   country_code   22000 non-null  object\n",
      " 1   has_expired    22000 non-null  object\n",
      " 2   job_board      22000 non-null  object\n",
      " 3   job_type       22000 non-null  object\n",
      " 4   organization   22000 non-null  object\n",
      " 5   salary         22000 non-null  object\n",
      " 6   sector         22000 non-null  object\n",
      " 7   uniq_id        22000 non-null  object\n",
      " 8   new_location   22000 non-null  object\n",
      " 9   new_job_title  22000 non-null  object\n",
      "dtypes: object(10)\n",
      "memory usage: 1.7+ MB\n"
     ]
    }
   ],
   "source": [
    "ds.info()"
   ]
  },
  {
   "cell_type": "code",
   "execution_count": 43,
   "id": "16883b09",
   "metadata": {},
   "outputs": [
    {
     "data": {
      "text/plain": [
       "<Axes: >"
      ]
     },
     "execution_count": 43,
     "metadata": {},
     "output_type": "execute_result"
    },
    {
     "data": {
      "image/png": "[encoded data removed]",
      "text/plain": [
       "<Figure size 640x480 with 2 Axes>"
      ]
     },
     "metadata": {},
     "output_type": "display_data"
    }
   ],
   "source": [
    "sns.heatmap(ds.isnull())"
   ]
  },
  {
   "cell_type": "markdown",
   "id": "b6db4669",
   "metadata": {},
   "source": [
    "# ENCODING FOR ML"
   ]
  },
  {
   "cell_type": "markdown",
   "id": "7799a76e",
   "metadata": {},
   "source": [
    "Used Label Encoding"
   ]
  },
  {
   "cell_type": "code",
   "execution_count": 44,
   "id": "45a8de08",
   "metadata": {},
   "outputs": [],
   "source": [
    "import pandas as pd\n",
    "from sklearn.preprocessing import LabelEncoder\n",
    "\n",
    "le = LabelEncoder()"
   ]
  },
  {
   "cell_type": "code",
   "execution_count": 45,
   "id": "5557aa3f",
   "metadata": {},
   "outputs": [
    {
     "data": {
      "text/plain": [
       "array(['Full Time', 'Part Time', 'Contract', 'Intern', 'Per Diem',\n",
       "       'Exempt'], dtype=object)"
      ]
     },
     "execution_count": 45,
     "metadata": {},
     "output_type": "execute_result"
    }
   ],
   "source": [
    "ds['job_type'].unique()"
   ]
  },
  {
   "cell_type": "code",
   "execution_count": 47,
   "id": "aec77bc1",
   "metadata": {},
   "outputs": [
    {
     "data": {
      "text/html": [
       "<div>\n",
       "<style scoped>\n",
       "    .dataframe tbody tr th:only-of-type {\n",
       "        vertical-align: middle;\n",
       "    }\n",
       "\n",
       "    .dataframe tbody tr th {\n",
       "        vertical-align: top;\n",
       "    }\n",
       "\n",
       "    .dataframe thead th {\n",
       "        text-align: right;\n",
       "    }\n",
       "</style>\n",
       "<table border=\"1\" class=\"dataframe\">\n",
       "  <thead>\n",
       "    <tr style=\"text-align: right;\">\n",
       "      <th></th>\n",
       "      <th>country_code</th>\n",
       "      <th>has_expired</th>\n",
       "      <th>job_board</th>\n",
       "      <th>job_type</th>\n",
       "      <th>organization</th>\n",
       "      <th>salary</th>\n",
       "      <th>sector</th>\n",
       "      <th>uniq_id</th>\n",
       "      <th>new_location</th>\n",
       "      <th>new_job_title</th>\n",
       "      <th>job_Label_Encoding</th>\n",
       "      <th>sal_Label_Encoding</th>\n",
       "      <th>jobtitle_Label_Encoding</th>\n",
       "      <th>sec_Label_Encoding</th>\n",
       "      <th>loc_Label_Encoding</th>\n",
       "      <th>org_Label_Encoding</th>\n",
       "    </tr>\n",
       "  </thead>\n",
       "  <tbody>\n",
       "    <tr>\n",
       "      <th>0</th>\n",
       "      <td>US</td>\n",
       "      <td>No</td>\n",
       "      <td>jobs.monster.com</td>\n",
       "      <td>Full Time</td>\n",
       "      <td>Healthcare Services</td>\n",
       "      <td>40,000.00 - 100,000.00 $ /year</td>\n",
       "      <td>IT/Software Development</td>\n",
       "      <td>11d599f229a80023d2f40e7c52cd941e</td>\n",
       "      <td>Madison, WI 53702</td>\n",
       "      <td>IT Support Technician</td>\n",
       "      <td>2</td>\n",
       "      <td>898</td>\n",
       "      <td>4716</td>\n",
       "      <td>102</td>\n",
       "      <td>3981</td>\n",
       "      <td>345</td>\n",
       "    </tr>\n",
       "    <tr>\n",
       "      <th>1</th>\n",
       "      <td>US</td>\n",
       "      <td>No</td>\n",
       "      <td>jobs.monster.com</td>\n",
       "      <td>Full Time</td>\n",
       "      <td>Printing and Publishing</td>\n",
       "      <td>40,000.00 - 100,000.00 $ /year</td>\n",
       "      <td>Experienced (Non-Manager)</td>\n",
       "      <td>e4cbb126dabf22159aff90223243ff2a</td>\n",
       "      <td>Madison, WI 53708</td>\n",
       "      <td>Business Reporter/Editor Job</td>\n",
       "      <td>2</td>\n",
       "      <td>898</td>\n",
       "      <td>1281</td>\n",
       "      <td>56</td>\n",
       "      <td>3986</td>\n",
       "      <td>538</td>\n",
       "    </tr>\n",
       "    <tr>\n",
       "      <th>2</th>\n",
       "      <td>US</td>\n",
       "      <td>No</td>\n",
       "      <td>jobs.monster.com</td>\n",
       "      <td>Full Time</td>\n",
       "      <td>Personal and Household Services</td>\n",
       "      <td>40,000.00 - 100,000.00 $ /year</td>\n",
       "      <td>Experienced (Non-Manager)</td>\n",
       "      <td>839106b353877fa3d896ffb9c1fe01c0</td>\n",
       "      <td>DePuy Synthes Companies</td>\n",
       "      <td>Johnson &amp; Johnson</td>\n",
       "      <td>2</td>\n",
       "      <td>898</td>\n",
       "      <td>5065</td>\n",
       "      <td>56</td>\n",
       "      <td>2102</td>\n",
       "      <td>531</td>\n",
       "    </tr>\n",
       "  </tbody>\n",
       "</table>\n",
       "</div>"
      ],
      "text/plain": [
       "  country_code has_expired         job_board   job_type  \\\n",
       "0           US          No  jobs.monster.com  Full Time   \n",
       "1           US          No  jobs.monster.com  Full Time   \n",
       "2           US          No  jobs.monster.com  Full Time   \n",
       "\n",
       "                      organization                          salary  \\\n",
       "0              Healthcare Services  40,000.00 - 100,000.00 $ /year   \n",
       "1          Printing and Publishing  40,000.00 - 100,000.00 $ /year   \n",
       "2  Personal and Household Services  40,000.00 - 100,000.00 $ /year   \n",
       "\n",
       "                      sector                           uniq_id  \\\n",
       "0    IT/Software Development  11d599f229a80023d2f40e7c52cd941e   \n",
       "1  Experienced (Non-Manager)  e4cbb126dabf22159aff90223243ff2a   \n",
       "2  Experienced (Non-Manager)  839106b353877fa3d896ffb9c1fe01c0   \n",
       "\n",
       "              new_location                 new_job_title  job_Label_Encoding  \\\n",
       "0        Madison, WI 53702         IT Support Technician                   2   \n",
       "1        Madison, WI 53708  Business Reporter/Editor Job                   2   \n",
       "2  DePuy Synthes Companies             Johnson & Johnson                   2   \n",
       "\n",
       "   sal_Label_Encoding  jobtitle_Label_Encoding  sec_Label_Encoding  \\\n",
       "0                 898                     4716                 102   \n",
       "1                 898                     1281                  56   \n",
       "2                 898                     5065                  56   \n",
       "\n",
       "   loc_Label_Encoding  org_Label_Encoding  \n",
       "0                3981                 345  \n",
       "1                3986                 538  \n",
       "2                2102                 531  "
      ]
     },
     "execution_count": 47,
     "metadata": {},
     "output_type": "execute_result"
    }
   ],
   "source": [
    "ds['job_Label_Encoding'] = le.fit_transform(ds['job_type'])\n",
    "ds['sal_Label_Encoding'] = le.fit_transform(ds['salary'])\n",
    "ds['jobtitle_Label_Encoding'] = le.fit_transform(ds['new_job_title'])\n",
    "ds['sec_Label_Encoding'] = le.fit_transform(ds['sector'])\n",
    "ds['loc_Label_Encoding'] = le.fit_transform(ds['new_location'])\n",
    "ds['org_Label_Encoding'] = le.fit_transform(ds['organization'])\n",
    "ds.head(3)"
   ]
  },
  {
   "cell_type": "markdown",
   "id": "3232457b",
   "metadata": {},
   "source": [
    "# Outlier Detection"
   ]
  },
  {
   "cell_type": "code",
   "execution_count": 49,
   "id": "8d955c63",
   "metadata": {},
   "outputs": [
    {
     "data": {
      "text/html": [
       "<div>\n",
       "<style scoped>\n",
       "    .dataframe tbody tr th:only-of-type {\n",
       "        vertical-align: middle;\n",
       "    }\n",
       "\n",
       "    .dataframe tbody tr th {\n",
       "        vertical-align: top;\n",
       "    }\n",
       "\n",
       "    .dataframe thead th {\n",
       "        text-align: right;\n",
       "    }\n",
       "</style>\n",
       "<table border=\"1\" class=\"dataframe\">\n",
       "  <thead>\n",
       "    <tr style=\"text-align: right;\">\n",
       "      <th></th>\n",
       "      <th>job_Label_Encoding</th>\n",
       "      <th>sal_Label_Encoding</th>\n",
       "      <th>jobtitle_Label_Encoding</th>\n",
       "      <th>sec_Label_Encoding</th>\n",
       "      <th>loc_Label_Encoding</th>\n",
       "      <th>org_Label_Encoding</th>\n",
       "    </tr>\n",
       "  </thead>\n",
       "  <tbody>\n",
       "    <tr>\n",
       "      <th>count</th>\n",
       "      <td>22000.000000</td>\n",
       "      <td>22000.000000</td>\n",
       "      <td>22000.000000</td>\n",
       "      <td>22000.000000</td>\n",
       "      <td>22000.000000</td>\n",
       "      <td>22000.000000</td>\n",
       "    </tr>\n",
       "    <tr>\n",
       "      <th>mean</th>\n",
       "      <td>1.926318</td>\n",
       "      <td>896.498182</td>\n",
       "      <td>5722.462182</td>\n",
       "      <td>75.668273</td>\n",
       "      <td>3313.820864</td>\n",
       "      <td>352.305773</td>\n",
       "    </tr>\n",
       "    <tr>\n",
       "      <th>std</th>\n",
       "      <td>0.737444</td>\n",
       "      <td>191.619611</td>\n",
       "      <td>3225.784895</td>\n",
       "      <td>36.926824</td>\n",
       "      <td>1950.942376</td>\n",
       "      <td>158.378049</td>\n",
       "    </tr>\n",
       "    <tr>\n",
       "      <th>min</th>\n",
       "      <td>0.000000</td>\n",
       "      <td>0.000000</td>\n",
       "      <td>0.000000</td>\n",
       "      <td>0.000000</td>\n",
       "      <td>0.000000</td>\n",
       "      <td>0.000000</td>\n",
       "    </tr>\n",
       "    <tr>\n",
       "      <th>25%</th>\n",
       "      <td>2.000000</td>\n",
       "      <td>898.000000</td>\n",
       "      <td>2859.750000</td>\n",
       "      <td>56.000000</td>\n",
       "      <td>1602.000000</td>\n",
       "      <td>303.000000</td>\n",
       "    </tr>\n",
       "    <tr>\n",
       "      <th>50%</th>\n",
       "      <td>2.000000</td>\n",
       "      <td>898.000000</td>\n",
       "      <td>5925.000000</td>\n",
       "      <td>56.000000</td>\n",
       "      <td>3136.000000</td>\n",
       "      <td>345.000000</td>\n",
       "    </tr>\n",
       "    <tr>\n",
       "      <th>75%</th>\n",
       "      <td>2.000000</td>\n",
       "      <td>898.000000</td>\n",
       "      <td>8542.250000</td>\n",
       "      <td>111.000000</td>\n",
       "      <td>4929.250000</td>\n",
       "      <td>440.000000</td>\n",
       "    </tr>\n",
       "    <tr>\n",
       "      <th>max</th>\n",
       "      <td>5.000000</td>\n",
       "      <td>1736.000000</td>\n",
       "      <td>11331.000000</td>\n",
       "      <td>162.000000</td>\n",
       "      <td>7124.000000</td>\n",
       "      <td>737.000000</td>\n",
       "    </tr>\n",
       "  </tbody>\n",
       "</table>\n",
       "</div>"
      ],
      "text/plain": [
       "       job_Label_Encoding  sal_Label_Encoding  jobtitle_Label_Encoding  \\\n",
       "count        22000.000000        22000.000000             22000.000000   \n",
       "mean             1.926318          896.498182              5722.462182   \n",
       "std              0.737444          191.619611              3225.784895   \n",
       "min              0.000000            0.000000                 0.000000   \n",
       "25%              2.000000          898.000000              2859.750000   \n",
       "50%              2.000000          898.000000              5925.000000   \n",
       "75%              2.000000          898.000000              8542.250000   \n",
       "max              5.000000         1736.000000             11331.000000   \n",
       "\n",
       "       sec_Label_Encoding  loc_Label_Encoding  org_Label_Encoding  \n",
       "count        22000.000000        22000.000000        22000.000000  \n",
       "mean            75.668273         3313.820864          352.305773  \n",
       "std             36.926824         1950.942376          158.378049  \n",
       "min              0.000000            0.000000            0.000000  \n",
       "25%             56.000000         1602.000000          303.000000  \n",
       "50%             56.000000         3136.000000          345.000000  \n",
       "75%            111.000000         4929.250000          440.000000  \n",
       "max            162.000000         7124.000000          737.000000  "
      ]
     },
     "execution_count": 49,
     "metadata": {},
     "output_type": "execute_result"
    }
   ],
   "source": [
    "import pandas as pd\n",
    "import seaborn as sns\n",
    "import matplotlib.pyplot as plt\n",
    "\n",
    "ds.describe()"
   ]
  },
  {
   "cell_type": "code",
   "execution_count": 56,
   "id": "c6dc15e9",
   "metadata": {},
   "outputs": [
    {
     "data": {
      "image/png": "[encoded data removed]",
      "text/plain": [
       "<Figure size 640x480 with 1 Axes>"
      ]
     },
     "metadata": {},
     "output_type": "display_data"
    }
   ],
   "source": [
    "sns.boxplot(x=\"org_Label_Encoding\",data=ds)\n",
    "plt.show()"
   ]
  },
  {
   "cell_type": "markdown",
   "id": "32cf2e01",
   "metadata": {},
   "source": [
    "# Removing Outlier"
   ]
  },
  {
   "cell_type": "code",
   "execution_count": 57,
   "id": "60df2c89",
   "metadata": {},
   "outputs": [
    {
     "data": {
      "text/plain": [
       "(18932, 16)"
      ]
     },
     "execution_count": 57,
     "metadata": {},
     "output_type": "execute_result"
    }
   ],
   "source": [
    "q1 = ds['org_Label_Encoding'].quantile(0.25)\n",
    "q1\n",
    "q3 = ds['org_Label_Encoding'].quantile(0.75)\n",
    "q3\n",
    "iqr = q3 -q1\n",
    "\n",
    "min_range = q1 - (iqr*0.25)\n",
    "max_range = q3 + (iqr*0.75)\n",
    "min_range, max_range\n",
    "\n",
    "new_dataset = ds[ds[\"org_Label_Encoding\"]<=max_range]\n",
    "new_dataset.shape"
   ]
  },
  {
   "cell_type": "markdown",
   "id": "becd932e",
   "metadata": {},
   "source": [
    "# Data Visualization"
   ]
  },
  {
   "cell_type": "code",
   "execution_count": 67,
   "id": "6350c8b2",
   "metadata": {},
   "outputs": [
    {
     "data": {
      "image/png": "[encoded data removed]",
      "text/plain": [
       "<Figure size 600x600 with 1 Axes>"
      ]
     },
     "metadata": {},
     "output_type": "display_data"
    }
   ],
   "source": [
    "# histogram each job title\n",
    "job_Label_Encoding_counts = ds['job_Label_Encoding'].value_counts()\n",
    "\n",
    "plt.figure(figsize=(6, 6))\n",
    "job_Label_Encoding_counts.plot(kind='bar', edgecolor='black')\n",
    "plt.title('Histogram of Job Titles')\n",
    "plt.xlabel('Job Title')\n",
    "plt.ylabel('Frequency')\n",
    "plt.xticks(rotation=90)\n",
    "plt.show()"
   ]
  },
  {
   "cell_type": "code",
   "execution_count": null,
   "id": "fdf4f21f",
   "metadata": {},
   "outputs": [],
   "source": []
  }
 ],
 "metadata": {
  "kernelspec": {
   "display_name": "Python 3 (ipykernel)",
   "language": "python",
   "name": "python3"
  },
  "language_info": {
   "codemirror_mode": {
    "name": "ipython",
    "version": 3
   },
   "file_extension": ".py",
   "mimetype": "text/x-python",
   "name": "python",
   "nbconvert_exporter": "python",
   "pygments_lexer": "ipython3",
   "version": "3.11.7"
  }
 },
 "nbformat": 4,
 "nbformat_minor": 5
}
